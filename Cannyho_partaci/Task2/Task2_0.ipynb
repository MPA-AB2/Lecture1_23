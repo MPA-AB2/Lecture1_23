{
 "cells": [
  {
   "cell_type": "code",
   "execution_count": 1,
   "metadata": {},
   "outputs": [],
   "source": [
    "import cv2 as cv\n",
    "import os\n",
    "import matplotlib.pyplot as plt\n",
    "import bm3d"
   ]
  },
  {
   "cell_type": "code",
   "execution_count": 2,
   "metadata": {},
   "outputs": [
    {
     "ename": "KeyboardInterrupt",
     "evalue": "",
     "output_type": "error",
     "traceback": [
      "\u001b[1;31m---------------------------------------------------------------------------\u001b[0m",
      "\u001b[1;31mKeyboardInterrupt\u001b[0m                         Traceback (most recent call last)",
      "Cell \u001b[1;32mIn[2], line 6\u001b[0m\n\u001b[0;32m      4\u001b[0m img \u001b[39m=\u001b[39m cv\u001b[39m.\u001b[39mimread(os\u001b[39m.\u001b[39mpath\u001b[39m.\u001b[39mjoin(folder,filename))\n\u001b[0;32m      5\u001b[0m img_filtered \u001b[39m=\u001b[39m cv\u001b[39m.\u001b[39mfastNlMeansDenoisingColored(img,\u001b[39mNone\u001b[39;00m,\u001b[39m8\u001b[39m,\u001b[39m8\u001b[39m,\u001b[39m5\u001b[39m,\u001b[39m50\u001b[39m)\n\u001b[1;32m----> 6\u001b[0m cv\u001b[39m.\u001b[39;49mimwrite(filename,img_filtered)\n",
      "\u001b[1;31mKeyboardInterrupt\u001b[0m: "
     ]
    }
   ],
   "source": [
    "os.chdir('V:\\Lecture1_23\\Cannyho_partaci\\Task2\\images_filtered')\n",
    "folder = 'V:\\Lecture1_23\\Cannyho_partaci\\Task2\\images_noise'\n",
    "for filename in os.listdir(folder):\n",
    "        img = cv.imread(os.path.join(folder,filename))\n",
    "        img_filtered = cv.fastNlMeansDenoisingColored(img,None,8,8,5,20)\n",
    "        cv.imwrite(filename,img_filtered)"
   ]
  },
  {
   "cell_type": "code",
   "execution_count": 2,
   "metadata": {},
   "outputs": [],
   "source": [
    "# img = cv.imread('images_noise/image1_01.jpg')\n",
    "# img_filtered = cv.fastNlMeansDenoisingColored(img,None,8,8,10,100)\n",
    "# fig, axes = plt.subplots(1,2,figsize = (16,16))\n",
    "# axes[0].imshow(img)\n",
    "# axes[1].imshow(img_filtered)\n"
   ]
  },
  {
   "cell_type": "code",
   "execution_count": null,
   "metadata": {},
   "outputs": [],
   "source": []
  },
  {
   "cell_type": "markdown",
   "metadata": {},
   "source": []
  },
  {
   "cell_type": "code",
   "execution_count": null,
   "metadata": {},
   "outputs": [],
   "source": []
  }
 ],
 "metadata": {
  "kernelspec": {
   "display_name": "Python 3",
   "language": "python",
   "name": "python3"
  },
  "language_info": {
   "codemirror_mode": {
    "name": "ipython",
    "version": 3
   },
   "file_extension": ".py",
   "mimetype": "text/x-python",
   "name": "python",
   "nbconvert_exporter": "python",
   "pygments_lexer": "ipython3",
   "version": "3.10.2"
  },
  "orig_nbformat": 4,
  "vscode": {
   "interpreter": {
    "hash": "d3e10ef16274dd72e574b8fa73b58450b957d8421a2901baded3cca26fcf5dda"
   }
  }
 },
 "nbformat": 4,
 "nbformat_minor": 2
}
